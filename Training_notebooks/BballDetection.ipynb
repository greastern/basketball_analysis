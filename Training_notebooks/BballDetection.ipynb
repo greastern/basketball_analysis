{
 "cells": [
  {
   "cell_type": "markdown",
   "id": "cb50f0f7-303d-4954-ae8e-a51276ec745f",
   "metadata": {},
   "source": [
    "Install Libraries"
   ]
  },
  {
   "cell_type": "markdown",
   "id": "fd6c5f2b",
   "metadata": {},
   "source": [
    "# Install Libraries"
   ]
  },
  {
   "cell_type": "code",
   "execution_count": null,
   "id": "fa4dd7e2-0e10-4e57-8816-55074f229db7",
   "metadata": {},
   "outputs": [],
   "source": [
    "\n",
    "!pip install roboflow\n",
    "!pip install ultralytics\n",
    "!pip install python-dotenv\n",
    "from roboflow import Roboflow\n",
    "import shutil\n",
    "import os\n",
    "from dotenv import load_dotenv\n",
    "load_dotenv()\n",
    "api_key = os.getenv(\"ROBOFLOW_API_KEY\")"
   ]
  },
  {
   "cell_type": "markdown",
   "id": "b7ba47e4",
   "metadata": {},
   "source": [
    "# Get Dataset"
   ]
  },
  {
   "cell_type": "code",
   "execution_count": null,
   "id": "82c6955e",
   "metadata": {},
   "outputs": [],
   "source": [
    "rf = Roboflow(api_key=api_key)\n",
    "project = rf.workspace(\"roboflow-universe-projects\").project(\"basketball-players-fy4c2\")\n",
    "version = project.version(25)\n",
    "dataset = version.download(\"yolov5\")"
   ]
  },
  {
   "cell_type": "markdown",
   "id": "98cc6e49",
   "metadata": {},
   "source": [
    "# Move train Dataset"
   ]
  },
  {
   "cell_type": "code",
   "execution_count": null,
   "id": "3e83da51",
   "metadata": {},
   "outputs": [],
   "source": [
    "shutil.move(\n",
    "    \"Basketball-Players-25/train\", \"Basketball-Players-25/Basketball-Players-25/train\"\n",
    ")\n",
    "\n",
    "# Move Valid Dataset\n",
    "shutil.move(\n",
    "    \"Basketball-Players-25/valid\", \"Basketball-Players-25/Basketball-Players-25/valid\"\n",
    ")\n",
    "\n",
    "\n"
   ]
  },
  {
   "cell_type": "markdown",
   "id": "2ad0ae53",
   "metadata": {},
   "source": [
    "# Train YOLO"
   ]
  },
  {
   "cell_type": "code",
   "execution_count": null,
   "id": "992966ca-0cb0-44ee-b89e-c43f3fe3c539",
   "metadata": {},
   "outputs": [],
   "source": [
    "!yolo task=detect mode=train model=yolov5l6u.pt data={dataset.location}/data.yaml epochs=100 imgsz=640 plots=True batch=8\n"
   ]
  }
 ],
 "metadata": {
  "kernelspec": {
   "display_name": "Python 3 (ipykernel)",
   "language": "python",
   "name": "python3"
  },
  "language_info": {
   "codemirror_mode": {
    "name": "ipython",
    "version": 3
   },
   "file_extension": ".py",
   "mimetype": "text/x-python",
   "name": "python",
   "nbconvert_exporter": "python",
   "pygments_lexer": "ipython3",
   "version": "3.10.12"
  }
 },
 "nbformat": 4,
 "nbformat_minor": 5
}
