{
 "cells": [
  {
   "cell_type": "markdown",
   "metadata": {
    "id": "nLZd--9rgkr7"
   },
   "source": [
    "# Install Libraries"
   ]
  },
  {
   "cell_type": "code",
   "execution_count": null,
   "metadata": {
    "colab": {
     "base_uri": "https://localhost:8080/"
    },
    "id": "XpF9PgmEgip-",
    "outputId": "04969600-e2ca-491e-f883-21cbefb599d8"
   },
   "outputs": [],
   "source": [
    "!pip install roboflow\n",
    "!pip install ultralytics\n",
    "!pip install python-dotenv\n",
    "from roboflow import Roboflow\n",
    "import shutil\n",
    "import os\n",
    "from dotenv import load_dotenv\n",
    "load_dotenv()\n",
    "api_key = os.getenv(\"ROBOFLOW_API_KEY\")"
   ]
  },
  {
   "cell_type": "markdown",
   "metadata": {
    "id": "8PmsX5tAg1eJ"
   },
   "source": [
    "# Get Dataset"
   ]
  },
  {
   "cell_type": "code",
   "execution_count": null,
   "metadata": {
    "colab": {
     "base_uri": "https://localhost:8080/"
    },
    "id": "84yfAgsIhAS1",
    "outputId": "df48810c-8ab2-41c5-b837-0ed586158a55"
   },
   "outputs": [],
   "source": [
    "rf = Roboflow(api_key=api_key)\n",
    "project = rf.workspace(\"roboflow-universe-projects\").project(\"basketball-players-fy4c2\")\n",
    "version = project.version(25)\n",
    "dataset = version.download(\"yolov5\")"
   ]
  },
  {
   "cell_type": "code",
   "execution_count": null,
   "metadata": {
    "colab": {
     "base_uri": "https://localhost:8080/",
     "height": 35
    },
    "id": "WWnR4HQ6hy9c",
    "outputId": "eca7a8cc-2cd7-4761-b2e6-44509d12bbbe"
   },
   "outputs": [],
   "source": [
    "# Move train Dataset\n",
    "shutil.move(\n",
    "    \"Basketball-Players-25/train\", \"Basketball-Players-25/Basketball-Players-25/train\"\n",
    ")\n",
    "\n",
    "# Move Valid Dataset\n",
    "shutil.move(\n",
    "    \"Basketball-Players-25/valid\", \"Basketball-Players-25/Basketball-Players-25/valid\"\n",
    ")"
   ]
  },
  {
   "cell_type": "markdown",
   "metadata": {
    "id": "q1vCHSeoh1Rm"
   },
   "source": [
    "# Train YOLO\n"
   ]
  },
  {
   "cell_type": "code",
   "execution_count": null,
   "metadata": {
    "colab": {
     "base_uri": "https://localhost:8080/"
    },
    "id": "zPNiDuV-h278",
    "outputId": "16c91c99-e1ee-449d-d26e-e06acebf5d23"
   },
   "outputs": [],
   "source": [
    "!yolo task=detect mode=train model=yolov5l6u.pt data={dataset.location}/data.yaml epochs=100 imgsz=640 plots=True batch=8\n"
   ]
  }
 ],
 "metadata": {
  "accelerator": "GPU",
  "colab": {
   "gpuType": "T4",
   "provenance": []
  },
  "kernelspec": {
   "display_name": "Python 3",
   "name": "python3"
  },
  "language_info": {
   "name": "python"
  }
 },
 "nbformat": 4,
 "nbformat_minor": 0
}
